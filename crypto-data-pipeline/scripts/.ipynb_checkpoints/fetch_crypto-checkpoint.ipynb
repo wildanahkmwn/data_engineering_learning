{
 "cells": [
  {
   "cell_type": "code",
   "execution_count": null,
   "id": "8d718148-074a-44d9-8e47-d3d7e223ceba",
   "metadata": {},
   "outputs": [],
   "source": [
    "import requests\n",
    "import psycopg2\n",
    "from datetime import datetime\n",
    "\n",
    "# PostgreSQL Database Connection\n",
    "conn = psycopg2.connect(\n",
    "    dbname=\"crypto_db\",\n",
    "    user=\"user\",\n",
    "    password=\"password\",\n",
    "    host=\"postgres\",  # Use 'localhost' if running locally without Docker\n",
    "    port=\"5432\"\n",
    ")\n",
    "cursor = conn.cursor()\n",
    "\n",
    "# CoinGecko API URL\n",
    "URL = \"https://api.coingecko.com/api/v3/simple/price?ids=bitcoin,ethereum&vs_currencies=usd\"\n",
    "\n",
    "def fetch_data():\n",
    "    try:\n",
    "        response = requests.get(URL)\n",
    "        response.raise_for_status()  # Check for errors\n",
    "\n",
    "        data = response.json()\n",
    "\n",
    "        # Extract Bitcoin & Ethereum prices\n",
    "        btc_price = data.get(\"bitcoin\", {}).get(\"usd\")\n",
    "        eth_price = data.get(\"ethereum\", {}).get(\"usd\")\n",
    "        timestamp = datetime.utcnow()\n",
    "\n",
    "        if btc_price and eth_price:\n",
    "            cursor.execute(\n",
    "                \"INSERT INTO crypto_prices (symbol, price, timestamp) VALUES (%s, %s, %s), (%s, %s, %s)\",\n",
    "                (\"BTC\", btc_price, timestamp, \"ETH\", eth_price, timestamp)\n",
    "            )\n",
    "            conn.commit()\n",
    "            print(f\"Data inserted: BTC - ${btc_price}, ETH - ${eth_price}\")\n",
    "\n",
    "        else:\n",
    "            print(\"Error: Could not fetch prices!\")\n",
    "\n",
    "    except requests.exceptions.RequestException as e:\n",
    "        print(f\"Request failed: {e}\")\n",
    "\n",
    "if __name__ == \"__main__\":\n",
    "    fetch_data()\n"
   ]
  },
  {
   "cell_type": "code",
   "execution_count": 7,
   "id": "935fe343-b4e7-48fe-99f1-1099b7dc97c7",
   "metadata": {
    "tags": []
   },
   "outputs": [
    {
     "name": "stdout",
     "output_type": "stream",
     "text": [
      "Data inserted: BTC - $99494, ETH - $2785.8\n"
     ]
    }
   ],
   "source": [
    "import requests\n",
    "from datetime import datetime\n",
    "# CoinGecko API URL\n",
    "URL = \"https://api.coingecko.com/api/v3/simple/price?ids=bitcoin,ethereum&vs_currencies=usd\"\n",
    "\n",
    "try:\n",
    "    response = requests.get(URL)\n",
    "    response.raise_for_status()  # Check for errors\n",
    "\n",
    "    data = response.json()\n",
    "\n",
    "    # Extract Bitcoin & Ethereum prices\n",
    "    btc_price = data.get(\"bitcoin\", {}).get(\"usd\")\n",
    "    eth_price = data.get(\"ethereum\", {}).get(\"usd\")\n",
    "    timestamp = datetime.utcnow()\n",
    "\n",
    "    if btc_price and eth_price:\n",
    "        print(f\"Data inserted: BTC - ${btc_price}, ETH - ${eth_price}\")\n",
    "\n",
    "    else:\n",
    "        print(\"Error: Could not fetch prices!\")\n",
    "\n",
    "except requests.exceptions.RequestException as e:\n",
    "    print(f\"Request failed: {e}\")"
   ]
  },
  {
   "cell_type": "code",
   "execution_count": 6,
   "id": "1b0d3b1c-7c3a-48be-865b-57ef590a5d2f",
   "metadata": {
    "tags": []
   },
   "outputs": [
    {
     "name": "stdout",
     "output_type": "stream",
     "text": [
      "{'bitcoin': {'usd': 98797}, 'ethereum': {'usd': 2741.38}}\n"
     ]
    }
   ],
   "source": [
    "URL = \"https://api.coingecko.com/api/v3/simple/price?ids=bitcoin,ethereum&vs_currencies=usd\"\n",
    "response = requests.get(URL)\n",
    "print(response.json())\n"
   ]
  },
  {
   "cell_type": "code",
   "execution_count": null,
   "id": "73e7f840-3cce-4927-9f8e-7f324e54352e",
   "metadata": {},
   "outputs": [],
   "source": []
  }
 ],
 "metadata": {
  "kernelspec": {
   "display_name": "Python 3 (ipykernel)",
   "language": "python",
   "name": "python3"
  },
  "language_info": {
   "codemirror_mode": {
    "name": "ipython",
    "version": 3
   },
   "file_extension": ".py",
   "mimetype": "text/x-python",
   "name": "python",
   "nbconvert_exporter": "python",
   "pygments_lexer": "ipython3",
   "version": "3.11.5"
  }
 },
 "nbformat": 4,
 "nbformat_minor": 5
}
